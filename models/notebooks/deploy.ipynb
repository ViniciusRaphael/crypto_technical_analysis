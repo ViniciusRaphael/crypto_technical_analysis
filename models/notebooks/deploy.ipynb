{
 "cells": [
  {
   "cell_type": "markdown",
   "metadata": {},
   "source": [
    "## Deploy Functions Modelo"
   ]
  },
  {
   "cell_type": "code",
   "execution_count": 7,
   "metadata": {},
   "outputs": [
    {
     "name": "stdout",
     "output_type": "stream",
     "text": [
      "['logistic_regression_model_v1_bl_target_10_15d.joblib', 'logistic_regression_model_v1_bl_target_10_30d.joblib', 'logistic_regression_model_v1_bl_target_10_7d.joblib', 'logistic_regression_model_v1_bl_target_15_15d.joblib', 'logistic_regression_model_v1_bl_target_15_30d.joblib', 'logistic_regression_model_v1_bl_target_15_7d.joblib', 'logistic_regression_model_v1_bl_target_20_15d.joblib', 'logistic_regression_model_v1_bl_target_20_30d.joblib', 'logistic_regression_model_v1_bl_target_20_7d.joblib', 'logistic_regression_model_v1_bl_target_25_15d.joblib', 'logistic_regression_model_v1_bl_target_25_30d.joblib', 'logistic_regression_model_v1_bl_target_25_7d.joblib']\n"
     ]
    }
   ],
   "source": [
    "import os\n",
    "\n",
    "# Definir o diretório que você quer listar os arquivos\n",
    "directory = 'trained_v1/'\n",
    "\n",
    "# Listar todos os itens no diretório e filtrar apenas os arquivos\n",
    "models = [f for f in os.listdir(directory) if os.path.isfile(os.path.join(directory, f))]\n",
    "\n",
    "# Printar os nomes dos arquivos\n",
    "print(models)\n"
   ]
  },
  {
   "cell_type": "code",
   "execution_count": null,
   "metadata": {},
   "outputs": [],
   "source": [
    "# Aqui entra a regra de seleção para o modelos\n",
    "# for model in models:\n",
    "    \n",
    "import joblib\n",
    "\n",
    "# clf = joblib.load(r'D:/Github/Forked/crypto_technical_analysis/models/logistic_regression_model_bl_target_10_7d.joblib')\n",
    "# clf = joblib.load(r'D:/Github/Forked/crypto_technical_analysis/models/trained_withoutSymbols/logistic_regression_model_without_symbolbl_target_10_15d.joblib')\n",
    "clf = joblib.load(r'D:/Github/Forked/crypto_technical_analysis/models/trained_v1/logistic_regression_model_v1_bl_target_10_7d.joblib')"
   ]
  },
  {
   "cell_type": "code",
   "execution_count": 9,
   "metadata": {},
   "outputs": [],
   "source": [
    "from pathlib import Path\n",
    "import pandas as pd\n",
    "import numpy as np\n",
    "\n",
    "pd.set_option(\"display.max_columns\", None)\n",
    "\n",
    "input_path = r'D:\\Github\\Forked\\crypto_technical_analysis\\files\\crypto_data_with_indicators.parquet'\n",
    "\n",
    "dados = pd.read_parquet(input_path)"
   ]
  },
  {
   "cell_type": "code",
   "execution_count": 10,
   "metadata": {},
   "outputs": [],
   "source": [
    "# Constants\n",
    "target_list_bol =   [\n",
    "    # boleanos\n",
    "    'bl_target_10_7d','bl_target_15_7d','bl_target_20_7d','bl_target_25_7d',\n",
    "    'bl_target_10_15d','bl_target_15_15d','bl_target_20_15d','bl_target_25_15d', \n",
    "    'bl_target_10_30d','bl_target_15_30d','bl_target_20_30d','bl_target_25_30d' \n",
    "]\n",
    "\n",
    "target_list_val =   [\n",
    "    # percentual\n",
    "    'target_10_7d','target_15_7d','target_20_7d','target_25_7d',\n",
    "    'target_10_15d','target_15_15d','target_20_15d','target_25_15d', \n",
    "    'target_10_30d','target_15_30d','target_20_30d','target_25_30d', \n",
    "]\n",
    "\n",
    "remove_target_list = target_list_bol + target_list_val\n",
    "\n",
    "removing_cols = ['Date', 'Symbol', 'Dividends', 'Stock Splits']"
   ]
  },
  {
   "cell_type": "code",
   "execution_count": 45,
   "metadata": {},
   "outputs": [],
   "source": [
    "def eval_data(dados, date_eval = None):\n",
    "\n",
    "    dados['Date'] = pd.to_datetime(dados['Date'])\n",
    "    dados['Date'] = dados['Date'].dt.strftime('%Y-%m-%d')\n",
    "\n",
    "    if date_eval is None or date_eval == '':\n",
    "        choosen_date = dados['Date'].max()\n",
    "    else:\n",
    "        choosen_date = date_eval\n",
    "        \n",
    "    filtered_data = dados[dados['Date'] == choosen_date]\n",
    "\n",
    "    return filtered_data"
   ]
  },
  {
   "cell_type": "code",
   "execution_count": 46,
   "metadata": {},
   "outputs": [],
   "source": [
    "def build_dummies(filtered_data, target_list, remove_cols):\n",
    "    \n",
    "    dados_x = filtered_data.drop(filtered_data[target_list], axis=1)\n",
    "    dados_x = dados_x.drop(dados_x[remove_cols], axis=1)\n",
    "\n",
    "    dummies_build = pd.get_dummies(dados_x)\n",
    "\n",
    "    dummies_prep = dummies_build.dropna()\n",
    "\n",
    "    return dummies_prep"
   ]
  },
  {
   "cell_type": "code",
   "execution_count": 47,
   "metadata": {},
   "outputs": [],
   "source": [
    "dataset_ref = eval_data(dados, '')"
   ]
  },
  {
   "cell_type": "code",
   "execution_count": 48,
   "metadata": {},
   "outputs": [],
   "source": [
    "dummies_input = build_dummies(dataset_ref, remove_target_list, removing_cols)"
   ]
  },
  {
   "cell_type": "code",
   "execution_count": 37,
   "metadata": {},
   "outputs": [],
   "source": [
    "def data_clean(dados:pd.DataFrame, target_list:list, data_return:str):\n",
    "    # Removing NA\n",
    "    dados_treat = dados.dropna()\n",
    "\n",
    "    # Substituindo valores infinitos por NaN\n",
    "    dados_treat.replace([np.inf, -np.inf], np.nan, inplace=True)\n",
    "\n",
    "    # Removendo linhas com valores NaN\n",
    "    dados_treat.dropna(inplace=True)\n",
    "\n",
    "    # Removing cols that won't be used in the model\n",
    "    # removing_cols = ['Symbol', 'Date', 'Open', 'High', 'Low', 'Close', 'Volume', 'Dividends', 'Stock Splits']\n",
    "    # removing_cols = ['Date']\n",
    "    # removing_cols = ['Date', 'Symbol']\n",
    "    removing_cols = ['Date', 'Symbol', 'Dividends', 'Stock Splits']\n",
    "\n",
    "    # Define the target in a list of target (for futher iteration)\n",
    "    dados_y = dados_treat[target_list]\n",
    "\n",
    "    # Removing target from base to avoid data leakage\n",
    "    dados_x = dados_treat.drop(dados_treat[target_list], axis=1)\n",
    "    dados_x = dados_x.drop(dados_x[removing_cols], axis=1)\n",
    "\n",
    "    if data_return == 'Y':\n",
    "        return dados_y\n",
    "    else:\n",
    "        return dados_x"
   ]
  },
  {
   "cell_type": "code",
   "execution_count": 34,
   "metadata": {},
   "outputs": [
    {
     "name": "stderr",
     "output_type": "stream",
     "text": [
      "C:\\Users\\mathe\\AppData\\Local\\Temp\\ipykernel_2420\\761462767.py:6: SettingWithCopyWarning: \n",
      "A value is trying to be set on a copy of a slice from a DataFrame\n",
      "\n",
      "See the caveats in the documentation: https://pandas.pydata.org/pandas-docs/stable/user_guide/indexing.html#returning-a-view-versus-a-copy\n",
      "  dados_treat.replace([np.inf, -np.inf], np.nan, inplace=True)\n",
      "C:\\Users\\mathe\\AppData\\Local\\Temp\\ipykernel_2420\\761462767.py:9: SettingWithCopyWarning: \n",
      "A value is trying to be set on a copy of a slice from a DataFrame\n",
      "\n",
      "See the caveats in the documentation: https://pandas.pydata.org/pandas-docs/stable/user_guide/indexing.html#returning-a-view-versus-a-copy\n",
      "  dados_treat.dropna(inplace=True)\n"
     ]
    }
   ],
   "source": [
    "dados_x_all = data_clean(dados, remove_target_list, 'X')\n",
    "dados_x_all_dummies = pd.get_dummies(dados_x_all)"
   ]
  },
  {
   "cell_type": "code",
   "execution_count": 51,
   "metadata": {},
   "outputs": [],
   "source": [
    "def padronize_dummies(dummies_input, dummies_ref):\n",
    "    # Encontrar colunas que estão no treinamento mas não na validação\n",
    "    missing_cols = set(dummies_ref.columns) - set(dummies_input.columns)\n",
    "\n",
    "    # # Adicionar as colunas faltantes no conjunto de validação, preenchidas com zeros\n",
    "    for col in missing_cols:\n",
    "        dummies_input[col] = False\n",
    "\n",
    "    # Reordenar as colunas no conjunto de validação para corresponder ao conjunto de treinamento\n",
    "    valid_dummies = dummies_input[dummies_ref.columns]\n",
    "\n",
    "    return valid_dummies"
   ]
  },
  {
   "cell_type": "code",
   "execution_count": 52,
   "metadata": {},
   "outputs": [],
   "source": [
    "padronized_dummies = padronize_dummies(dummies_input, dados_x_all_dummies)"
   ]
  },
  {
   "cell_type": "code",
   "execution_count": 43,
   "metadata": {},
   "outputs": [
    {
     "data": {
      "text/html": [
       "<div>\n",
       "<style scoped>\n",
       "    .dataframe tbody tr th:only-of-type {\n",
       "        vertical-align: middle;\n",
       "    }\n",
       "\n",
       "    .dataframe tbody tr th {\n",
       "        vertical-align: top;\n",
       "    }\n",
       "\n",
       "    .dataframe thead th {\n",
       "        text-align: right;\n",
       "    }\n",
       "</style>\n",
       "<table border=\"1\" class=\"dataframe\">\n",
       "  <thead>\n",
       "    <tr style=\"text-align: right;\">\n",
       "      <th></th>\n",
       "    </tr>\n",
       "  </thead>\n",
       "  <tbody>\n",
       "    <tr>\n",
       "      <th>0</th>\n",
       "    </tr>\n",
       "    <tr>\n",
       "      <th>1</th>\n",
       "    </tr>\n",
       "    <tr>\n",
       "      <th>2</th>\n",
       "    </tr>\n",
       "    <tr>\n",
       "      <th>3</th>\n",
       "    </tr>\n",
       "    <tr>\n",
       "      <th>4</th>\n",
       "    </tr>\n",
       "    <tr>\n",
       "      <th>...</th>\n",
       "    </tr>\n",
       "    <tr>\n",
       "      <th>892083</th>\n",
       "    </tr>\n",
       "    <tr>\n",
       "      <th>892084</th>\n",
       "    </tr>\n",
       "    <tr>\n",
       "      <th>892085</th>\n",
       "    </tr>\n",
       "    <tr>\n",
       "      <th>892086</th>\n",
       "    </tr>\n",
       "    <tr>\n",
       "      <th>892087</th>\n",
       "    </tr>\n",
       "  </tbody>\n",
       "</table>\n",
       "<p>892088 rows × 0 columns</p>\n",
       "</div>"
      ],
      "text/plain": [
       "Empty DataFrame\n",
       "Columns: []\n",
       "Index: [0, 1, 2, 3, 4, 5, 6, 7, 8, 9, 10, 11, 12, 13, 14, 15, 16, 17, 18, 19, 20, 21, 22, 23, 24, 25, 26, 27, 28, 29, 30, 31, 32, 33, 34, 35, 36, 37, 38, 39, 40, 41, 42, 43, 44, 45, 46, 47, 48, 49, 50, 51, 52, 53, 54, 55, 56, 57, 58, 59, 60, 61, 62, 63, 64, 65, 66, 67, 68, 69, 70, 71, 72, 73, 74, 75, 76, 77, 78, 79, 80, 81, 82, 83, 84, 85, 86, 87, 88, 89, 90, 91, 92, 93, 94, 95, 96, 97, 98, 99, ...]\n",
       "\n",
       "[892088 rows x 0 columns]"
      ]
     },
     "execution_count": 43,
     "metadata": {},
     "output_type": "execute_result"
    }
   ],
   "source": [
    "x = dados[[]]\n",
    "x"
   ]
  },
  {
   "cell_type": "code",
   "execution_count": 44,
   "metadata": {},
   "outputs": [],
   "source": [
    "def add_proba_target(classifier, dummies_input, dataset_ref, col_name_output):\n",
    "\n",
    "    #Fazendo a previsão das probabilidades\n",
    "    proba = classifier.predict_proba(dummies_input)\n",
    "\n",
    "    # Probabilidade de ser o target:\n",
    "    proba_target = proba[:,1] # array\n",
    "\n",
    "    proba_dataset = dummies_input[[]] # pegando apenas os índices do dataset de input (que já contém os dados de retorno)\n",
    "\n",
    "    proba_dataset[col_name_output] = proba_target\n",
    "\n",
    "    # proba_crypto_date = dataset_ref[['Symbol', 'Date', 'Close']]\n",
    "\n",
    "    build_dataset_proba = pd.merge(dataset_ref, proba_dataset, left_index=True, right_index=True)\n",
    "    \n",
    "    return build_dataset_proba"
   ]
  },
  {
   "cell_type": "code",
   "execution_count": 14,
   "metadata": {},
   "outputs": [],
   "source": [
    "def build_var_name(model_name, prefix):\n",
    "\n",
    "    string_name = model_name.split('.')[0]\n",
    "\n",
    "    splited_list = string_name.split('_')\n",
    "    \n",
    "    build_name = splited_list[0][0] + splited_list[1][0]  + prefix + splited_list[-2] + '_' + splited_list[-1]\n",
    "    \n",
    "    return build_name\n"
   ]
  },
  {
   "cell_type": "code",
   "execution_count": 15,
   "metadata": {},
   "outputs": [
    {
     "data": {
      "text/plain": [
       "'lr_pb_10_30d'"
      ]
     },
     "execution_count": 15,
     "metadata": {},
     "output_type": "execute_result"
    }
   ],
   "source": [
    "build_var_name('logistic_regression_model_v1_bl_target_10_30d.joblib', '_pb_')"
   ]
  },
  {
   "cell_type": "code",
   "execution_count": 53,
   "metadata": {},
   "outputs": [
    {
     "name": "stderr",
     "output_type": "stream",
     "text": [
      "c:\\Users\\mathe\\AppData\\Local\\Programs\\Python\\Python312\\Lib\\site-packages\\sklearn\\base.py:486: UserWarning: X has feature names, but LogisticRegression was fitted without feature names\n",
      "  warnings.warn(\n",
      "C:\\Users\\mathe\\AppData\\Local\\Temp\\ipykernel_2420\\3155700715.py:11: SettingWithCopyWarning: \n",
      "A value is trying to be set on a copy of a slice from a DataFrame.\n",
      "Try using .loc[row_indexer,col_indexer] = value instead\n",
      "\n",
      "See the caveats in the documentation: https://pandas.pydata.org/pandas-docs/stable/user_guide/indexing.html#returning-a-view-versus-a-copy\n",
      "  proba_dataset[col_name_output] = proba_target\n"
     ]
    },
    {
     "data": {
      "text/html": [
       "<div>\n",
       "<style scoped>\n",
       "    .dataframe tbody tr th:only-of-type {\n",
       "        vertical-align: middle;\n",
       "    }\n",
       "\n",
       "    .dataframe tbody tr th {\n",
       "        vertical-align: top;\n",
       "    }\n",
       "\n",
       "    .dataframe thead th {\n",
       "        text-align: right;\n",
       "    }\n",
       "</style>\n",
       "<table border=\"1\" class=\"dataframe\">\n",
       "  <thead>\n",
       "    <tr style=\"text-align: right;\">\n",
       "      <th></th>\n",
       "      <th>Symbol</th>\n",
       "      <th>Date</th>\n",
       "      <th>Close</th>\n",
       "      <th>target_pb</th>\n",
       "    </tr>\n",
       "  </thead>\n",
       "  <tbody>\n",
       "    <tr>\n",
       "      <th>205</th>\n",
       "      <td>1CAT-USD</td>\n",
       "      <td>2024-07-12</td>\n",
       "      <td>0.002353</td>\n",
       "      <td>0.0</td>\n",
       "    </tr>\n",
       "    <tr>\n",
       "      <th>1502</th>\n",
       "      <td>1INCH-USD</td>\n",
       "      <td>2024-07-12</td>\n",
       "      <td>0.416116</td>\n",
       "      <td>0.0</td>\n",
       "    </tr>\n",
       "    <tr>\n",
       "      <th>1916</th>\n",
       "      <td>AA-USD</td>\n",
       "      <td>2024-07-12</td>\n",
       "      <td>0.505551</td>\n",
       "      <td>0.0</td>\n",
       "    </tr>\n",
       "    <tr>\n",
       "      <th>3297</th>\n",
       "      <td>AAVE-USD</td>\n",
       "      <td>2024-07-12</td>\n",
       "      <td>99.630486</td>\n",
       "      <td>0.0</td>\n",
       "    </tr>\n",
       "    <tr>\n",
       "      <th>5399</th>\n",
       "      <td>ABBC-USD</td>\n",
       "      <td>2024-07-12</td>\n",
       "      <td>0.008688</td>\n",
       "      <td>0.0</td>\n",
       "    </tr>\n",
       "    <tr>\n",
       "      <th>...</th>\n",
       "      <td>...</td>\n",
       "      <td>...</td>\n",
       "      <td>...</td>\n",
       "      <td>...</td>\n",
       "    </tr>\n",
       "    <tr>\n",
       "      <th>880908</th>\n",
       "      <td>ZELIX-USD</td>\n",
       "      <td>2024-07-12</td>\n",
       "      <td>0.000090</td>\n",
       "      <td>0.0</td>\n",
       "    </tr>\n",
       "    <tr>\n",
       "      <th>883294</th>\n",
       "      <td>ZEN-USD</td>\n",
       "      <td>2024-07-12</td>\n",
       "      <td>10.808343</td>\n",
       "      <td>0.0</td>\n",
       "    </tr>\n",
       "    <tr>\n",
       "      <th>884653</th>\n",
       "      <td>ZETA-USD</td>\n",
       "      <td>2024-07-12</td>\n",
       "      <td>0.640986</td>\n",
       "      <td>0.0</td>\n",
       "    </tr>\n",
       "    <tr>\n",
       "      <th>888029</th>\n",
       "      <td>ZIL-USD</td>\n",
       "      <td>2024-07-12</td>\n",
       "      <td>0.016214</td>\n",
       "      <td>0.0</td>\n",
       "    </tr>\n",
       "    <tr>\n",
       "      <th>889436</th>\n",
       "      <td>ZPAY-USD</td>\n",
       "      <td>2024-07-12</td>\n",
       "      <td>0.016987</td>\n",
       "      <td>0.0</td>\n",
       "    </tr>\n",
       "  </tbody>\n",
       "</table>\n",
       "<p>347 rows × 4 columns</p>\n",
       "</div>"
      ],
      "text/plain": [
       "           Symbol        Date      Close  target_pb\n",
       "205      1CAT-USD  2024-07-12   0.002353        0.0\n",
       "1502    1INCH-USD  2024-07-12   0.416116        0.0\n",
       "1916       AA-USD  2024-07-12   0.505551        0.0\n",
       "3297     AAVE-USD  2024-07-12  99.630486        0.0\n",
       "5399     ABBC-USD  2024-07-12   0.008688        0.0\n",
       "...           ...         ...        ...        ...\n",
       "880908  ZELIX-USD  2024-07-12   0.000090        0.0\n",
       "883294    ZEN-USD  2024-07-12  10.808343        0.0\n",
       "884653   ZETA-USD  2024-07-12   0.640986        0.0\n",
       "888029    ZIL-USD  2024-07-12   0.016214        0.0\n",
       "889436   ZPAY-USD  2024-07-12   0.016987        0.0\n",
       "\n",
       "[347 rows x 4 columns]"
      ]
     },
     "execution_count": 53,
     "metadata": {},
     "output_type": "execute_result"
    }
   ],
   "source": [
    "compiled_dataset = dataset_ref[['Symbol', 'Date', 'Close']]\n",
    "\n",
    "add_proba_target(clf, padronized_dummies, compiled_dataset, 'target_pb')\n",
    "# result.sort_values(by='proba_target', ascending=False)"
   ]
  },
  {
   "cell_type": "code",
   "execution_count": null,
   "metadata": {},
   "outputs": [],
   "source": [
    "### outras funções"
   ]
  },
  {
   "cell_type": "code",
   "execution_count": null,
   "metadata": {},
   "outputs": [],
   "source": [
    "# from datetime import datetime\n",
    "# from pathlib import Path\n",
    "# import pyarrow.parquet as pq\n",
    "# import pyarrow as pa\n",
    "\n",
    "import json\n",
    "import requests as re\n",
    "import yfinance as yf\n",
    "import pandas as pd\n",
    "\n",
    "\n",
    "def get_kucoin_symbols():\n",
    "    resp = re.get('https://api.kucoin.com/api/v2/symbols')\n",
    "    ticker_list = json.loads(resp.content)\n",
    "    symbols_list = [ticker['symbol'] for ticker in ticker_list['data'] if str(ticker['symbol'][-4:]) == 'USDT']\n",
    "    return symbols_list\n",
    "\n",
    "def fetch_crypto_data(symbols, start_date):\n",
    "    df_list = []\n",
    "\n",
    "    for count, symbol in enumerate(symbols):\n",
    "        print(f'Processing {symbol} ({count + 1} of {len(symbols)})')\n",
    "\n",
    "        # Get historical data using yfinance for the given symbol since start_date\n",
    "        crypto_data = yf.Ticker(symbol).history(start=start_date)\n",
    "\n",
    "        # Add a 'symbol' column to the DataFrame to identify the cryptocurrency\n",
    "        crypto_data['Symbol'] = symbol\n",
    "\n",
    "        # Append the DataFrame to the list if it's not empty\n",
    "        if not crypto_data.empty:\n",
    "            df_list.append(crypto_data)\n",
    "\n",
    "    # Concatenate the list of DataFrames into a single DataFrame\n",
    "    if df_list:\n",
    "        return pd.concat(df_list)\n",
    "    else:\n",
    "        return None\n",
    "\n",
    "kucoin_symbols = get_kucoin_symbols()\n",
    "\n",
    "data_hoje = pd.Timestamp.today()\n",
    "\n",
    "# Formatando a data no formato 'YYYY-MM-DD'\n",
    "data_hoje_formatada = data_hoje.strftime('%Y-%m-%d')\n",
    "\n",
    "crypto_symbols = [symbol[:-1] for symbol in kucoin_symbols]\n",
    "\n",
    "crypto_today = fetch_crypto_data(crypto_symbols, data_hoje_formatada)"
   ]
  },
  {
   "cell_type": "code",
   "execution_count": null,
   "metadata": {},
   "outputs": [],
   "source": [
    "\n",
    "from indicators_util import add_indicators\n",
    "\n",
    "# Add indicators to the DataFrame\n",
    "indicators_dataframe = add_indicators(crypto_today)"
   ]
  }
 ],
 "metadata": {
  "kernelspec": {
   "display_name": "Python 3",
   "language": "python",
   "name": "python3"
  },
  "language_info": {
   "codemirror_mode": {
    "name": "ipython",
    "version": 3
   },
   "file_extension": ".py",
   "mimetype": "text/x-python",
   "name": "python",
   "nbconvert_exporter": "python",
   "pygments_lexer": "ipython3",
   "version": "3.12.0"
  }
 },
 "nbformat": 4,
 "nbformat_minor": 2
}

{
 "cells": [
  {
   "cell_type": "markdown",
   "metadata": {},
   "source": [
    "## Modelo de Regressão Logística - Desenvolvimento"
   ]
  },
  {
   "cell_type": "code",
   "execution_count": 1,
   "metadata": {},
   "outputs": [],
   "source": [
    "from pathlib import Path\n",
    "import pandas as pd\n",
    "import numpy as np\n",
    "\n",
    "pd.set_option(\"display.max_columns\", None)\n",
    "\n",
    "input_path = r'D:\\Github\\Forked\\crypto_technical_analysis\\files\\crypto_data_with_indicators.parquet'\n",
    "\n",
    "dados = pd.read_parquet(input_path)"
   ]
  },
  {
   "cell_type": "code",
   "execution_count": 260,
   "metadata": {},
   "outputs": [],
   "source": [
    "# Filter data for study\n",
    "# symbols_filter = ['BTC-USD', 'ETH-USD', 'SOL-USD', 'LTC-USD', 'DOGE-USD', 'MATIC-USD', 'LINK-USD', 'NEAR-USD']\n",
    "symbols_filter = ['BTC-USD', 'ETH-USD', 'BNB-USD', 'XRP-USD', 'SOL-USD', 'ADA-USD', 'DOGE-USD', 'TON-USD', 'TRX-USD', 'AVAX-USD', 'SHIB-USD', 'DOT-USD', 'LINK-USD', 'BCH-USD', 'MATIC-USD', 'NEAR-USD', 'LTC-USD', 'UNI-USD', 'XMR-USD', 'XLM-USD', 'APT-USD', 'RNDR-USD', 'HBAR-USD']\n",
    "\n",
    "dados = dados[dados['Symbol'].isin(symbols_filter)]"
   ]
  },
  {
   "cell_type": "code",
   "execution_count": 2,
   "metadata": {},
   "outputs": [],
   "source": [
    "def data_clean(dados:pd.DataFrame, target_list:list, data_return:str):\n",
    "    # Removing NA\n",
    "    dados_treat = dados.dropna()\n",
    "\n",
    "    # Substituindo valores infinitos por NaN\n",
    "    dados_treat.replace([np.inf, -np.inf], np.nan, inplace=True)\n",
    "\n",
    "    # Removendo linhas com valores NaN\n",
    "    dados_treat.dropna(inplace=True)\n",
    "\n",
    "    # Removing columns that won't be use in the model\n",
    "    # removing_cols = ['Symbol', 'Date', 'Open', 'High', 'Low', 'Close', 'Volume', 'Dividends', 'Stock Splits']\n",
    "    removing_cols = ['Date', 'Symbol']\n",
    "\n",
    "    # Define the target in a list of target (for futher iteration)\n",
    "    dados_y = dados_treat[target_list]\n",
    "\n",
    "    # Removing target from base to avoid data leakage\n",
    "    dados_x = dados_treat.drop(dados_treat[target_list], axis=1)\n",
    "    dados_x = dados_treat.drop(dados_treat[removing_cols], axis=1)\n",
    "\n",
    "    if data_return == 'Y':\n",
    "        return dados_y\n",
    "    else:\n",
    "        return dados_x"
   ]
  },
  {
   "cell_type": "code",
   "execution_count": 3,
   "metadata": {},
   "outputs": [],
   "source": [
    "def get_target(dados_y:pd.DataFrame, col_target:str):\n",
    "    return dados_y[col_target]"
   ]
  },
  {
   "cell_type": "code",
   "execution_count": 4,
   "metadata": {},
   "outputs": [
    {
     "name": "stderr",
     "output_type": "stream",
     "text": [
      "C:\\Users\\mathe\\AppData\\Local\\Temp\\ipykernel_16680\\677412278.py:6: SettingWithCopyWarning: \n",
      "A value is trying to be set on a copy of a slice from a DataFrame\n",
      "\n",
      "See the caveats in the documentation: https://pandas.pydata.org/pandas-docs/stable/user_guide/indexing.html#returning-a-view-versus-a-copy\n",
      "  dados_treat.replace([np.inf, -np.inf], np.nan, inplace=True)\n",
      "C:\\Users\\mathe\\AppData\\Local\\Temp\\ipykernel_16680\\677412278.py:9: SettingWithCopyWarning: \n",
      "A value is trying to be set on a copy of a slice from a DataFrame\n",
      "\n",
      "See the caveats in the documentation: https://pandas.pydata.org/pandas-docs/stable/user_guide/indexing.html#returning-a-view-versus-a-copy\n",
      "  dados_treat.dropna(inplace=True)\n",
      "C:\\Users\\mathe\\AppData\\Local\\Temp\\ipykernel_16680\\677412278.py:6: SettingWithCopyWarning: \n",
      "A value is trying to be set on a copy of a slice from a DataFrame\n",
      "\n",
      "See the caveats in the documentation: https://pandas.pydata.org/pandas-docs/stable/user_guide/indexing.html#returning-a-view-versus-a-copy\n",
      "  dados_treat.replace([np.inf, -np.inf], np.nan, inplace=True)\n",
      "C:\\Users\\mathe\\AppData\\Local\\Temp\\ipykernel_16680\\677412278.py:9: SettingWithCopyWarning: \n",
      "A value is trying to be set on a copy of a slice from a DataFrame\n",
      "\n",
      "See the caveats in the documentation: https://pandas.pydata.org/pandas-docs/stable/user_guide/indexing.html#returning-a-view-versus-a-copy\n",
      "  dados_treat.dropna(inplace=True)\n"
     ]
    }
   ],
   "source": [
    "\n",
    "import preprocessing_data as preprocessing\n",
    "\n",
    "target_list_bol =   [\n",
    "    # boleanos\n",
    "    'bl_target_10_7d','bl_target_15_7d','bl_target_20_7d','bl_target_25_7d',\n",
    "    'bl_target_10_15d','bl_target_15_15d','bl_target_20_15d','bl_target_25_15d', \n",
    "    'bl_target_10_30d','bl_target_15_30d','bl_target_20_30d','bl_target_25_30d' \n",
    "]\n",
    "\n",
    "target_list_val =   [\n",
    "    # percentual\n",
    "    'target_10_7d','target_15_7d','target_20_7d','target_25_7d',\n",
    "    'target_10_15d','target_15_15d','target_20_15d','target_25_15d', \n",
    "    'target_10_30d','target_15_30d','target_20_30d','target_25_30d', \n",
    "]\n",
    "\n",
    "remove_target_list = target_list_bol + target_list_val\n",
    "\n",
    "dados_x = data_clean(dados, remove_target_list, 'X')\n",
    "dados_y_all = data_clean(dados, remove_target_list, 'Y')"
   ]
  },
  {
   "cell_type": "code",
   "execution_count": 5,
   "metadata": {},
   "outputs": [],
   "source": [
    "dados_y = get_target(dados_y_all, target_list_bol[0])"
   ]
  },
  {
   "cell_type": "code",
   "execution_count": 7,
   "metadata": {},
   "outputs": [],
   "source": [
    "from sklearn.linear_model import LogisticRegression\n",
    "from sklearn.model_selection import train_test_split\n",
    "\n",
    "def split_data(dados_x:pd.DataFrame, dados_y:pd.DataFrame, test_size:float=0.3):\n",
    "\n",
    "    # Getting dummies values. This way we can use categorical columns to train the models\n",
    "    dummies = pd.get_dummies(dados_x)\n",
    "\n",
    "    # Transform the data in numpy arrays\n",
    "    X = np.array(dummies.values)\n",
    "    y = np.array(dados_y.values)\n",
    "\n",
    "    # This function returns X_train, X_test, y_train, y_test, in this order.\n",
    "    # See below an example of the return \n",
    "    # X_train, X_test, y_train, y_test = split_data(dados_x, dados_y, 0.3)\n",
    "\n",
    "    return train_test_split(X, y, test_size=test_size, random_state=45)\n",
    "\n",
    "X_train, X_test, y_train, y_test = split_data(dados_x, dados_y, 0.3)"
   ]
  },
  {
   "cell_type": "code",
   "execution_count": 8,
   "metadata": {},
   "outputs": [
    {
     "name": "stdout",
     "output_type": "stream",
     "text": [
      "0    0.815134\n",
      "1    0.184866\n",
      "Name: proportion, dtype: float64\n"
     ]
    }
   ],
   "source": [
    "# Verificando o desbalanceamento de classes\n",
    "\n",
    "# Supondo que 'y' seja o vetor de rótulos\n",
    "print(pd.Series(y_train).value_counts(normalize=True))"
   ]
  },
  {
   "cell_type": "code",
   "execution_count": 9,
   "metadata": {},
   "outputs": [],
   "source": [
    "# Balanceando as classes \n",
    "def balance_sample(X_train, y_train, type):\n",
    "\n",
    "    from imblearn.under_sampling import RandomUnderSampler # pip install imblearn\n",
    "    from imblearn.over_sampling import SMOTE\n",
    "\n",
    "    # Reduzir amostra\n",
    "    if type == 1:\n",
    "        undersampler = RandomUnderSampler(random_state=42)\n",
    "        return undersampler.fit_resample(X_train, y_train)\n",
    "\n",
    "    # Aumentar amostra\n",
    "    if type == 2:\n",
    "        smote = SMOTE(random_state=42)\n",
    "        return smote.fit_resample(X_train, y_train)\n",
    "    \n",
    "    # Sem mudanças\n",
    "    if type == 0:\n",
    "        return X_train, y_train   "
   ]
  },
  {
   "cell_type": "code",
   "execution_count": 269,
   "metadata": {},
   "outputs": [],
   "source": [
    "X_train, y_train = balance_sample(X_train, y_train, 2)"
   ]
  },
  {
   "cell_type": "code",
   "execution_count": 10,
   "metadata": {},
   "outputs": [
    {
     "name": "stdout",
     "output_type": "stream",
     "text": [
      "92678 408648\n",
      "39552 175302\n"
     ]
    }
   ],
   "source": [
    "# Contar os valores 1\n",
    "count_1 = np.count_nonzero(y_train == 1)\n",
    "\n",
    "# Contar os valores 0\n",
    "count_0 = np.count_nonzero(y_train == 0)\n",
    "\n",
    "# Contar os valores 1\n",
    "count_1t = np.count_nonzero(y_test == 1)\n",
    "\n",
    "# Contar os valores 0\n",
    "count_0t = np.count_nonzero(y_test == 0)\n",
    "\n",
    "print(count_1, count_0)\n",
    "print(count_1t, count_0t)"
   ]
  },
  {
   "cell_type": "code",
   "execution_count": 11,
   "metadata": {},
   "outputs": [],
   "source": [
    "def norm_scale(X_norm_scale):\n",
    "\n",
    "    # normalizando e padronizando os dados\n",
    "    # MinMaxScaler é usado para normalizar as variáveis, e StandardScaler é usado para padronizar\n",
    "    from sklearn.preprocessing import MinMaxScaler, StandardScaler\n",
    "\n",
    "    # normalizando\n",
    "    scaler = MinMaxScaler()\n",
    "    scaler.fit(X_norm_scale)\n",
    "    normalized_data = scaler.transform(X_norm_scale)\n",
    "    # print(normalized_data)\n",
    "\n",
    "    # Padronizando\n",
    "    scaler = StandardScaler()\n",
    "    scaler.fit(X_norm_scale)\n",
    "    standardized_data = scaler.transform(X_norm_scale)\n",
    "    # print(standardized_data)\n",
    "\n",
    "    # print(standardized_data.shape)\n",
    "\n",
    "    X_norm_scale = standardized_data\n",
    "    \n",
    "    return X_norm_scale"
   ]
  },
  {
   "cell_type": "code",
   "execution_count": 12,
   "metadata": {},
   "outputs": [
    {
     "data": {
      "text/plain": [
       "array([[0.06307700276374817, 0.0647049993276596, 0.06252600252628326,\n",
       "        ..., False, False, False],\n",
       "       [0.14122800529003143, 0.14569200575351715, 0.12915900349617004,\n",
       "        ..., True, False, False],\n",
       "       [0.07715799659490585, 0.08703500032424927, 0.07450000196695328,\n",
       "        ..., True, False, False],\n",
       "       ...,\n",
       "       [3.9999998989515007e-05, 3.9999998989515007e-05,\n",
       "        3.9999998989515007e-05, ..., False, True, False],\n",
       "       [0.0009629999985918403, 0.000977999996393919, 0.00088900001719594,\n",
       "        ..., True, False, False],\n",
       "       [0.006891999859362841, 0.007038000039756298, 0.006560999900102615,\n",
       "        ..., True, False, False]], dtype=object)"
      ]
     },
     "execution_count": 12,
     "metadata": {},
     "output_type": "execute_result"
    }
   ],
   "source": [
    "#Antes da normalização\n",
    "X_train"
   ]
  },
  {
   "cell_type": "code",
   "execution_count": 13,
   "metadata": {},
   "outputs": [],
   "source": [
    "# # Normalizando datasets de treino e teste\n",
    "X_train = norm_scale(X_train)\n",
    "X_test = norm_scale(X_test)"
   ]
  },
  {
   "cell_type": "code",
   "execution_count": 14,
   "metadata": {},
   "outputs": [
    {
     "data": {
      "text/plain": [
       "array([[-0.07732262, -0.01005085, -0.07717625, ..., -0.91319246,\n",
       "        -0.30059252, -0.11162759],\n",
       "       [-0.07729267, -0.01004756, -0.07714998, ...,  1.09505942,\n",
       "        -0.30059252, -0.11162759],\n",
       "       [-0.07731722, -0.01004994, -0.07717153, ...,  1.09505942,\n",
       "        -0.30059252, -0.11162759],\n",
       "       ...,\n",
       "       [-0.07734677, -0.01005347, -0.07720089, ..., -0.91319246,\n",
       "         3.32676273, -0.11162759],\n",
       "       [-0.07734642, -0.01005343, -0.07720055, ...,  1.09505942,\n",
       "        -0.30059252, -0.11162759],\n",
       "       [-0.07734415, -0.01005318, -0.07719832, ...,  1.09505942,\n",
       "        -0.30059252, -0.11162759]])"
      ]
     },
     "execution_count": 14,
     "metadata": {},
     "output_type": "execute_result"
    }
   ],
   "source": [
    "# Depois da normalização\n",
    "X_train"
   ]
  },
  {
   "cell_type": "code",
   "execution_count": 22,
   "metadata": {},
   "outputs": [],
   "source": [
    "# Criando o modelo\n",
    "model = LogisticRegression(class_weight='balanced',random_state=0,max_iter=1000)\n",
    "\n",
    "# Treinando o modelo\n",
    "model.fit(X_train, y_train)\n",
    "\n",
    "clf = LogisticRegression(random_state=45,max_iter=1000).fit(X_train, y_train)"
   ]
  },
  {
   "cell_type": "code",
   "execution_count": 23,
   "metadata": {},
   "outputs": [],
   "source": [
    "def eval_model(classifier, X_test, y_test):\n",
    "\n",
    "    from sklearn.metrics import confusion_matrix\n",
    "    from sklearn import metrics\n",
    "\n",
    "    # Fazendo a previsão das classes\n",
    "    y_pred2 = classifier.predict(X_test)\n",
    "\n",
    "    # Avaliando o erro\n",
    "    print('Confusion Matrix')\n",
    "    print(confusion_matrix(y_test,y_pred2))\n",
    "\n",
    "    # Avaliando o modelo \n",
    "    # score = model.score(X_test, y_test)\n",
    "    score = metrics.accuracy_score(y_test, y_pred2)\n",
    "\n",
    "    # Percentagem de acerto\n",
    "    print('Acurácia:', score)"
   ]
  },
  {
   "cell_type": "code",
   "execution_count": 24,
   "metadata": {},
   "outputs": [
    {
     "name": "stdout",
     "output_type": "stream",
     "text": [
      "Confusion Matrix\n",
      "[[175302      0]\n",
      " [     2  39550]]\n",
      "Acurácia: 0.999990691353198\n"
     ]
    }
   ],
   "source": [
    "eval_model(clf, X_test, y_test)"
   ]
  },
  {
   "cell_type": "code",
   "execution_count": 25,
   "metadata": {},
   "outputs": [
    {
     "data": {
      "image/png": "[encoded data removed]",
      "text/plain": [
       "<Figure size 640x480 with 2 Axes>"
      ]
     },
     "metadata": {},
     "output_type": "display_data"
    }
   ],
   "source": [
    "from sklearn.metrics import ConfusionMatrixDisplay, confusion_matrix\n",
    "\n",
    "y_pred = clf.predict(X_test)\n",
    "cm = confusion_matrix(y_test, y_pred)\n",
    "cm_display = ConfusionMatrixDisplay(cm).plot()"
   ]
  },
  {
   "cell_type": "code",
   "execution_count": 26,
   "metadata": {},
   "outputs": [
    {
     "data": {
      "image/png": "[encoded data removed]",
      "text/plain": [
       "<Figure size 640x480 with 1 Axes>"
      ]
     },
     "metadata": {},
     "output_type": "display_data"
    }
   ],
   "source": [
    "# Visualizando o gráfico\n",
    "\n",
    "import matplotlib.pyplot as plt\n",
    "from scipy.special import expit\n",
    "\n",
    "x = np.linspace(X_train.min(), X_train.max(), 100)\n",
    "y = expit(x)\n",
    "plt.plot(x, y)\n",
    "plt.grid()\n",
    "plt.xlim(X_train.min(), X_train.max())\n",
    "plt.xlabel('x')\n",
    "plt.title('expit(x)')\n",
    "plt.show()"
   ]
  },
  {
   "cell_type": "code",
   "execution_count": 236,
   "metadata": {},
   "outputs": [],
   "source": [
    "def save_model(classifier, name_model:str):\n",
    "    # Lib to save the model in a compressed way\n",
    "    import joblib\n",
    "\n",
    "    # Save the model that has been trained\n",
    "    joblib.dump(classifier, name_model + '.joblib')\n",
    "\n",
    "    print(f'Modelo savo no diretório atual com o nome de {name_model}.joblib')"
   ]
  },
  {
   "cell_type": "code",
   "execution_count": 237,
   "metadata": {},
   "outputs": [],
   "source": [
    "def load_model(name_model:str):\n",
    "    # Lib to save the model in a compressed way\n",
    "    import joblib\n",
    "\n",
    "    # Load the trained model\n",
    "    clf_loaded = joblib.load(name_model + '.joblib')\n",
    "\n",
    "    return clf_loaded"
   ]
  },
  {
   "cell_type": "code",
   "execution_count": 46,
   "metadata": {},
   "outputs": [
    {
     "name": "stdout",
     "output_type": "stream",
     "text": [
      "Modelo savo no diretório atual com o nome de logistic_regression_model_bl_target_10_7d.joblib\n"
     ]
    }
   ],
   "source": [
    "nome_modelo = 'logistic_regression_model_bl_target_10_7d'\n",
    "save_model(clf, nome_modelo)"
   ]
  }
 ],
 "metadata": {
  "kernelspec": {
   "display_name": "Python 3",
   "language": "python",
   "name": "python3"
  },
  "language_info": {
   "codemirror_mode": {
    "name": "ipython",
    "version": 3
   },
   "file_extension": ".py",
   "mimetype": "text/x-python",
   "name": "python",
   "nbconvert_exporter": "python",
   "pygments_lexer": "ipython3",
   "version": "3.12.0"
  }
 },
 "nbformat": 4,
 "nbformat_minor": 2
}
